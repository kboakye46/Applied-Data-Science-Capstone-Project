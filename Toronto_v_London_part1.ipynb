{
 "cells": [
  {
   "cell_type": "markdown",
   "metadata": {},
   "source": [
    "# Battle of the Neighborhoods : Exploring Afro-Caribbean Venues in Toronto and London"
   ]
  },
  {
   "cell_type": "markdown",
   "metadata": {},
   "source": [
    "Kwaku Boakye\n",
    "\n",
    "November 9, 2020"
   ]
  },
  {
   "cell_type": "markdown",
   "metadata": {},
   "source": [
    "## Introduction"
   ]
  },
  {
   "cell_type": "markdown",
   "metadata": {},
   "source": [
    " The consensus that is out there is that London and Toronto are two cities with uncanny similarity. Many assert that this public acclaim is nothing more than an urban myth while believers of this notion point to several linkages between the two cities. These two megacities are both considered financial strongholds of their countries. Adding to the obvious strong economy, these two countries are melting pots for different cultures.\n",
    "\n",
    "More specifically, one can observe the ubiquity of the Afro-Caribbean cultures like Jamaica, Trinidad, Ghana, and Nigeria that exist in certain pockets of the city. An attempt is made here to gain further understanding of the neighborhoods that exist in these cities by analyzing them using clustering techniques."
   ]
  },
  {
   "cell_type": "markdown",
   "metadata": {},
   "source": [
    "## Business Problem"
   ]
  },
  {
   "cell_type": "markdown",
   "metadata": {},
   "source": [
    " The purpose of this report is to serve as a reliable guide for travel enthusiasts who would like to explore the similar afro-Caribbean centers that may exist in these two cities. Additionally, after performing this analysis it will provide a reliable source to draw parallels between these two cities giving stakeholders the opportunity to make smart business decisions on what areas to establish Afro-Caribbean specific business ventures."
   ]
  },
  {
   "cell_type": "markdown",
   "metadata": {},
   "source": [
    "## Data Description"
   ]
  },
  {
   "cell_type": "markdown",
   "metadata": {},
   "source": [
    "This project will be using public data that has been scrapped from Wikipedia as well as leverage data from the Foursquare API. The Foursquare will allow the use of the explore function to get the most common venue categories in each neighborhood and then use this feature to group the neighborhoods into clusters. For Geolocation data, the Geocoder python package will help in providing the necessary latitude and longitude using the postal codes of the different neighborhoods in both cities.\n",
    "Moreover, the two distinct datasets that are going to be used are going to need some preprocessing.\n"
   ]
  },
  {
   "cell_type": "markdown",
   "metadata": {},
   "source": [
    "## Toronto"
   ]
  },
  {
   "cell_type": "markdown",
   "metadata": {},
   "source": [
    "The main source of the data that is used for the Toronto analysis is to be scrapped from the Wikipedia webpage: https://en.wikipedia.org/wiki/List_of_postal_codes_of_Canada:_M  \n",
    "\n",
    "This Webpage has major categories of data that is needed explore and cluster the neighbohods in Toronto. The data derived is needs to be wrangled and cleaned before it can be read into a Pandas dataframe which provide as platfrom to perform any type of statiscal anlysis. The Toronto datafram will have three main columns namely: \n",
    "* 1. PostalCode : Postal codes for the different neighborhoods\n",
    "* 2. Borough : Name of borough\n",
    "* 3. Neighborhood : Name of neighborhood \n",
    "\n",
    "Only cells with assigned neighborhoods will be processed while \"not assigned\" cells will be promptly dropped.\n",
    "\n"
   ]
  },
  {
   "cell_type": "markdown",
   "metadata": {},
   "source": [
    "## London"
   ]
  },
  {
   "cell_type": "markdown",
   "metadata": {},
   "source": [
    "For the London dataset it is going to be scrapped from the Wikipedia page: https://en.wikipedia.org/wiki/List_of_areas_of_London\n",
    "Due to the fact that this webpage has information about areas that are not going to be considered in this project we limit the scope of this dataset to pertain just to London.\n",
    "The data will be limited to three main columns namely:\n",
    "* 1. borough : Name of Neighbourhood\n",
    "* 2. town : Name of borough\n",
    "* 3. post_code : Postal codes for London.\n",
    "\n"
   ]
  },
  {
   "cell_type": "code",
   "execution_count": null,
   "metadata": {},
   "outputs": [],
   "source": []
  }
 ],
 "metadata": {
  "kernelspec": {
   "display_name": "Python",
   "language": "python",
   "name": "conda-env-python-py"
  },
  "language_info": {
   "codemirror_mode": {
    "name": "ipython",
    "version": 3
   },
   "file_extension": ".py",
   "mimetype": "text/x-python",
   "name": "python",
   "nbconvert_exporter": "python",
   "pygments_lexer": "ipython3",
   "version": "3.6.11"
  }
 },
 "nbformat": 4,
 "nbformat_minor": 4
}
